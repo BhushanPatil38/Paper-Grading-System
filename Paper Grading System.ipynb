{
 "cells": [
  {
   "cell_type": "markdown",
   "id": "5e2c44ac",
   "metadata": {},
   "source": [
    "# Paper Grading System"
   ]
  },
  {
   "cell_type": "markdown",
   "id": "2ab188a1",
   "metadata": {},
   "source": [
    "#### The paper grading system will take answers as input and would compare them with the ideal answer to grade students. The answers will be processed and broken down into root words to compare with the ideal answers.\n",
    "#### Using semantic analysis, the similarity between words will be measured by similarity index which would return a score. Even if different synonyms are used, the program maps the synonyms using Ontology and generates a perfect score. Hence, if different words are used and the same meaning is conveyed, then the student would get full marks. "
   ]
  },
  {
   "cell_type": "markdown",
   "id": "bfae727e",
   "metadata": {},
   "source": [
    "#### Steps followed in processing-\n",
    "##### 1. Read Data from File\n",
    "##### 2. Identify and remove the stopwords\n",
    "##### 3. Use the Lemmatizer to tokenize the words and fetch it's root form (example - \"drinking\" becomes \"drink\")\n",
    "##### 4. Calculate similarity Index and based on a threshold, return the grade."
   ]
  },
  {
   "cell_type": "markdown",
   "id": "0485ba23",
   "metadata": {},
   "source": [
    "## 1. Import Libraries"
   ]
  },
  {
   "cell_type": "code",
   "execution_count": 106,
   "id": "1bc4a3e2",
   "metadata": {},
   "outputs": [
    {
     "name": "stderr",
     "output_type": "stream",
     "text": [
      "[nltk_data] Downloading package wordnet to\n",
      "[nltk_data]     C:\\Users\\bhush\\AppData\\Roaming\\nltk_data...\n",
      "[nltk_data]   Package wordnet is already up-to-date!\n",
      "[nltk_data] Downloading package stopwords to\n",
      "[nltk_data]     C:\\Users\\bhush\\AppData\\Roaming\\nltk_data...\n",
      "[nltk_data]   Package stopwords is already up-to-date!\n",
      "[nltk_data] Downloading package punkt to\n",
      "[nltk_data]     C:\\Users\\bhush\\AppData\\Roaming\\nltk_data...\n",
      "[nltk_data]   Package punkt is already up-to-date!\n"
     ]
    }
   ],
   "source": [
    "import nltk\n",
    "nltk.download('wordnet')\n",
    "from nltk.tokenize import sent_tokenize, word_tokenize\n",
    "from nltk.corpus import stopwords,wordnet\n",
    "from nltk.stem import WordNetLemmatizer\n",
    "from itertools import product\n",
    "import numpy\n",
    "import nltk\n",
    "nltk.download('stopwords')\n",
    "nltk.download('punkt')\n",
    "import pandas as pd\n"
   ]
  },
  {
   "cell_type": "markdown",
   "id": "9b73453f",
   "metadata": {},
   "source": [
    "## 2.Read documents or strings"
   ]
  },
  {
   "cell_type": "code",
   "execution_count": 107,
   "id": "cc2aadbc",
   "metadata": {},
   "outputs": [],
   "source": [
    "with open(r'C:\\Users\\bhush\\OneDrive\\Desktop\\Kaggle\\Paper Grading\\Ans1.txt', 'r') as file_1:\n",
    "    str1 = file_1.read().replace('\\n', '')\n",
    "    \n",
    "with open(r'C:\\Users\\bhush\\OneDrive\\Desktop\\Kaggle\\Paper Grading\\Ans2.txt', 'r') as file_2:\n",
    "    str2 = file_2.read().replace('\\n', '')"
   ]
  },
  {
   "cell_type": "code",
   "execution_count": 108,
   "id": "5d9131c5",
   "metadata": {},
   "outputs": [],
   "source": [
    "# Sample strings to compare\n",
    "\n",
    "# str1 = \"Abhishek is a good boy.\"\n",
    "# str2 = \"Abhishek is not a bad boy.\"\n",
    "#str1 = \"Cat is drinking water.\"\n",
    "#str2 = \"Lions drinks flesh\"\n",
    "# str1 = \"He loves to play football.\"\n",
    "# str2 = \"Football is his favourite sport.\"\n",
    "# str1 = \"Many consider Maradona as the best player in soccer history.\"\n",
    "# str2 = \"Maradona is one of the best soccer player.\"\n",
    "\n",
    "#str1 = \"A database is an organized collection of data.An ER diagram comprises of entities which are connected to each other via relationships , attributes form the basis of entity recognition.\"\n",
    "#str2 = \"Database is a strcutred group of data. An ER diagram is a collection of entities and their features which are linked using relationships ,features are the base of identifying an entity  \"\n",
    "\n",
    "# str1 = \"Ballmer has been vocal in the past warning that Linux is a threat to Microsoft.\"\n",
    "# str2 = \"In the memo, Ballmer reiterated the open-source threat to Microsoft.\"\n",
    "# str1 = \"A school is a place where kids go to study.\"\n",
    "# str2 = \"School is an institution for children who want to study.\"\n",
    "# str1 = \"The world knows it has lost a heroic champion of justice and freedom.\"\n",
    "# str2 = \"The earth recognizes the loss of a valiant champion of independence and justice.\"\n",
    "# str1 = \"A cemetery is a place where dead people's bodies or their ashes are buried.\"\n",
    "# str2 = \"A graveyard is an area of land ,sometimes near a church, where dead people are buried.\" \n"
   ]
  },
  {
   "cell_type": "code",
   "execution_count": 109,
   "id": "6dfdf0a0",
   "metadata": {},
   "outputs": [],
   "source": [
    "\n",
    "##---------------Defining stopwords for English Language---------------##\n",
    "\n",
    "stop_words = set(stopwords.words(\"english\"))\n",
    "\n",
    "##---------------Initialising Lists---------------##\n",
    "filtered_sentence1 = []\n",
    "filtered_sentence2 = []\n",
    "lemm_sentence1 = []\n",
    "lemm_sentence2 = []\n",
    "sims = []\n",
    "temp1 = []\n",
    "temp2 = []\n",
    "simi = []\n",
    "final = []\n",
    "same_sent1 = []\n",
    "same_sent2 = []\n",
    "#ps = PorterStemmer()\n"
   ]
  },
  {
   "cell_type": "markdown",
   "id": "8ebca130",
   "metadata": {},
   "source": [
    "## 3. Process the first document"
   ]
  },
  {
   "cell_type": "code",
   "execution_count": 110,
   "id": "0583b5e9",
   "metadata": {},
   "outputs": [
    {
     "name": "stdout",
     "output_type": "stream",
     "text": [
      "['Machine', 'learning', 'seen', 'use', 'case', 'ranging', 'predicting', 'customer', 'behavior', 'forming', 'operating', 'system', 'come', 'advantage', 'machine', 'learning', 'help', 'enterprise', 'understand', 'customer', 'deeper', 'level', 'By', 'collecting', 'customer', 'data', 'correlating', 'behavior', 'time', 'machine', 'learning', 'algorithm', 'learn', 'association', 'help', 'team', 'tailor', 'product', 'development', 'marketing', 'initiative', 'customer', 'company', 'use', 'machine', 'learning', 'primary', 'driver', 'business', 'model', 'Uber', 'example', 'us', 'algorithm', 'match', 'driver', 'rider', 'Google', 'us', 'machine', 'learning', 'surface', 'ride', 'advertisement', 'machine', 'learning', 'come', 'disadvantage', 'First', 'foremost', 'expensive', 'Machine', 'learning', 'project', 'typically', 'driven', 'data', 'scientist', 'command', 'high', 'salary', 'These', 'project', 'also', 'require', 'software', 'infrastructure', 'also', 'problem', 'machine', 'learning', 'bias', 'Algorithms', 'trained', 'data', 'set', 'exclude', 'certain', 'population', 'contain', 'error', 'lead', 'inaccurate', 'model', 'world', 'best', 'fail', 'worst', 'discriminatory', 'When', 'enterprise', 'base', 'core', 'business', 'process', 'biased', 'model', 'run', 'regulatory', 'reputational', 'harm']\n"
     ]
    }
   ],
   "source": [
    "\n",
    "##---------------Defining WordNet Lematizer --------------##\n",
    "lemmatizer  =  WordNetLemmatizer()\n",
    "\n",
    "##---------------Tokenizing and removing the Stopwords---------------##\n",
    "\n",
    "for words1 in word_tokenize(str1):\n",
    "    if words1 not in stop_words:\n",
    "        if words1.isalnum():\n",
    "            filtered_sentence1.append(words1)\n",
    "\n",
    "##---------------Lemmatizing: Root Words---------------##\n",
    "\n",
    "for i in filtered_sentence1:\n",
    "    lemm_sentence1.append(lemmatizer.lemmatize(i))\n",
    "\n",
    "\n",
    "\n",
    "print(lemm_sentence1)\n"
   ]
  },
  {
   "cell_type": "markdown",
   "id": "6c57218c",
   "metadata": {},
   "source": [
    "## 4. Process the second document"
   ]
  },
  {
   "cell_type": "code",
   "execution_count": 111,
   "id": "3ebd7ad1",
   "metadata": {},
   "outputs": [
    {
     "name": "stdout",
     "output_type": "stream",
     "text": [
      "['Machine', 'learning', 'seen', 'use', 'case', 'ranging', 'predicting', 'customer', 'behavior', 'developing', 'operating', 'system', 'autonomous', 'car', 'When', 'come', 'profit', 'machine', 'learning', 'help', 'company', 'understand', 'customer', 'deeper', 'level', 'By', 'collecting', 'customer', 'data', 'correlating', 'behavior', 'time', 'machine', 'learning', 'algorithm', 'learn', 'association', 'help', 'team', 'tailor', 'product', 'development', 'marketing', 'initiative', 'meet', 'customer', 'demand', 'Some', 'company', 'use', 'machine', 'learning', 'main', 'driver', 'business', 'model', 'For', 'example', 'Uber', 'us', 'algorithm', 'match', 'driver', 'passenger', 'Google', 'us', 'machine', 'learning', 'show', 'ad', 'generate', 'search', 'ad', 'But', 'machine', 'learning', 'drawback', 'First', 'expensive', 'Machine', 'learning', 'project', 'often', 'driven', 'data', 'scientist', 'demanding', 'high', 'salary', 'These', 'project', 'also', 'require', 'software', 'infrastructure', 'expensive', 'There', 'also', 'problem', 'machine', 'learning', 'bias', 'Algorithms', 'trained', 'data', 'set', 'exclude', 'certain', 'population', 'contain', 'error', 'lead', 'inaccurate', 'model', 'world', 'faulty', 'best', 'discriminatory', 'worst', 'If', 'company', 'base', 'core', 'business', 'process', 'distorted', 'model', 'lead', 'regulatory', 'damage', 'reputational', 'damage']\n"
     ]
    }
   ],
   "source": [
    "\n",
    "##---------------Tokenizing and removing the Stopwords---------------##\n",
    "\n",
    "for words2 in word_tokenize(str2):\n",
    "    if words2 not in stop_words:\n",
    "        if words2.isalnum():\n",
    "            filtered_sentence2.append(words2)\n",
    "\n",
    "##---------------Lemmatizing: Root Words---------------##\n",
    "\n",
    "for i in filtered_sentence2:\n",
    "    lemm_sentence2.append(lemmatizer.lemmatize(i))\n",
    "    \n",
    "print(lemm_sentence2)"
   ]
  },
  {
   "cell_type": "markdown",
   "id": "a9e36695",
   "metadata": {},
   "source": [
    "## 5. Filter identical words"
   ]
  },
  {
   "cell_type": "code",
   "execution_count": 113,
   "id": "f93caa93",
   "metadata": {},
   "outputs": [
    {
     "name": "stdout",
     "output_type": "stream",
     "text": [
      "['Machine', 'Machine', 'seen', 'case', 'predicting', 'behavior', 'behavior', 'operating', 'come', 'machine', 'machine', 'machine', 'machine', 'machine', 'machine', 'help', 'help', 'understand', 'deeper', 'By', 'customer', 'customer', 'customer', 'customer', 'learning', 'learning', 'learning', 'learning', 'learning', 'learning', 'learning', 'learning', 'team', 'product', 'marketing', 'company', 'company', 'company', 'driver', 'driver', 'model', 'model', 'model', 'example', 'algorithm', 'algorithm', 'Google', 'First', 'expensive', 'expensive', 'driven', 'scientist', 'high', 'These', 'also', 'also', 'software', 'problem', 'Algorithms', 'data', 'data', 'data', 'population', 'error', 'inaccurate', 'best', 'worst', 'When', 'base', 'business', 'business', 'regulatory']\n"
     ]
    }
   ],
   "source": [
    "\n",
    "#---------------Removing the same words from the tokens----------------##\n",
    "identical=[]\n",
    "for word1 in lemm_sentence1:\n",
    "    for word2 in lemm_sentence2:\n",
    "        if word1 == word2:\n",
    "            if word1 in lemm_sentence1: \n",
    "                lemm_sentence1.remove(word1)\n",
    "            if word2 in lemm_sentence2: \n",
    "                lemm_sentence2.remove(word2)\n",
    "            identical.append(word1)\n",
    "    \n",
    "print(identical)"
   ]
  },
  {
   "cell_type": "markdown",
   "id": "9def2738",
   "metadata": {},
   "source": [
    "## 5. Calculate similarity Index for each word"
   ]
  },
  {
   "cell_type": "code",
   "execution_count": 114,
   "id": "5e7a00aa",
   "metadata": {},
   "outputs": [],
   "source": [
    "##---------------Similarity index calculation for each word---------------##\n",
    "for word1 in lemm_sentence1:\n",
    "    simi =[]\n",
    "    for word2 in lemm_sentence2:\n",
    "        sims = []\n",
    "        #print(word1)\n",
    "        #print(word2)\n",
    "        syns1 = wordnet.synsets(word1)\n",
    "        #print(syns1)\n",
    "        syns2 = wordnet.synsets(word2)\n",
    "        #print(syns2)\n",
    "        for sense1, sense2 in product(syns1, syns2):\n",
    "            d = wordnet.wup_similarity(sense1, sense2)\n",
    "            if d != None:\n",
    "                sims.append(d)\n",
    "    \n",
    "        #print(sims)\n",
    "        #print(max(sims))\n",
    "        if sims != []:        \n",
    "            max_sim = max(sims)\n",
    "           #print(max_sim)\n",
    "            simi.append(max_sim)\n",
    "             \n",
    "    if simi != []:\n",
    "        max_final = max(simi)\n",
    "        final.append(max_final)"
   ]
  },
  {
   "cell_type": "code",
   "execution_count": 115,
   "id": "7b5a34c7",
   "metadata": {},
   "outputs": [
    {
     "name": "stdout",
     "output_type": "stream",
     "text": [
      "[1.0, 1.0, 0.8, 1.0, 0.9230769230769231, 1.0, 1.0, 1.0, 1.0, 1.0, 1.0, 1.0, 1.0, 1.0, 1.0, 1.0, 1.0, 1.0, 1.0, 1.0, 1.0, 0.9230769230769231, 0.8571428571428571, 1.0, 0.8, 0.9333333333333333, 0.5, 1.0, 0.5, 1.0, 1.0, 1.0, 1.0, 1.0, 1.0, 1.0, 1.0, 1.0, 1.0, 1.0, 1.0, 1.0, 0.6666666666666666, 1.0, 1.0, 1.0, 1.0, 1.0, 1.0, 1.0]\n"
     ]
    }
   ],
   "source": [
    "print(final) ### Computes the similarity between words"
   ]
  },
  {
   "cell_type": "code",
   "execution_count": 116,
   "id": "0561a7b6",
   "metadata": {},
   "outputs": [
    {
     "name": "stdout",
     "output_type": "stream",
     "text": [
      "Sentence 1:  Machine learning has seen use cases ranging from predicting customer behavior to forming the operating system for self-driving cars.When it comes to advantages, machine learning can help enterprises understand their customers at a deeper level. By collecting customer data and correlating it with behaviors over time, machine learning algorithms can learn associations and help teams tailor product development and marketing initiatives to customer demand.Some companies use machine learning as a primary driver in their business models. Uber, for example, uses algorithms to match drivers with riders. Google uses machine learning to surface the ride advertisements in searches.But machine learning comes with disadvantages. First and foremost, it can be expensive. Machine learning projects are typically driven by data scientists, who command high salaries. These projects also require software infrastructure that can be expensive.There is also the problem of machine learning bias. Algorithms trained on data sets that exclude certain populations or contain errors can lead to inaccurate models of the world that, at best, fail and, at worst, are discriminatory. When an enterprise bases core business processes on biased models it can run into regulatory and reputational harm.\n",
      "\n",
      "--------Tokenization--------\n",
      "['Machine', 'learning', 'has', 'seen', 'use', 'cases', 'ranging', 'from', 'predicting', 'customer', 'behavior', 'to', 'forming', 'the', 'operating', 'system', 'for', 'self-driving', 'cars.When', 'it', 'comes', 'to', 'advantages', ',', 'machine', 'learning', 'can', 'help', 'enterprises', 'understand', 'their', 'customers', 'at', 'a', 'deeper', 'level', '.', 'By', 'collecting', 'customer', 'data', 'and', 'correlating', 'it', 'with', 'behaviors', 'over', 'time', ',', 'machine', 'learning', 'algorithms', 'can', 'learn', 'associations', 'and', 'help', 'teams', 'tailor', 'product', 'development', 'and', 'marketing', 'initiatives', 'to', 'customer', 'demand.Some', 'companies', 'use', 'machine', 'learning', 'as', 'a', 'primary', 'driver', 'in', 'their', 'business', 'models', '.', 'Uber', ',', 'for', 'example', ',', 'uses', 'algorithms', 'to', 'match', 'drivers', 'with', 'riders', '.', 'Google', 'uses', 'machine', 'learning', 'to', 'surface', 'the', 'ride', 'advertisements', 'in', 'searches.But', 'machine', 'learning', 'comes', 'with', 'disadvantages', '.', 'First', 'and', 'foremost', ',', 'it', 'can', 'be', 'expensive', '.', 'Machine', 'learning', 'projects', 'are', 'typically', 'driven', 'by', 'data', 'scientists', ',', 'who', 'command', 'high', 'salaries', '.', 'These', 'projects', 'also', 'require', 'software', 'infrastructure', 'that', 'can', 'be', 'expensive.There', 'is', 'also', 'the', 'problem', 'of', 'machine', 'learning', 'bias', '.', 'Algorithms', 'trained', 'on', 'data', 'sets', 'that', 'exclude', 'certain', 'populations', 'or', 'contain', 'errors', 'can', 'lead', 'to', 'inaccurate', 'models', 'of', 'the', 'world', 'that', ',', 'at', 'best', ',', 'fail', 'and', ',', 'at', 'worst', ',', 'are', 'discriminatory', '.', 'When', 'an', 'enterprise', 'bases', 'core', 'business', 'processes', 'on', 'biased', 'models', 'it', 'can', 'run', 'into', 'regulatory', 'and', 'reputational', 'harm', '.']\n",
      "--------After Stop Words Removal--------\n",
      "['use', 'ranging', 'forming', 'system', 'advantage', 'enterprise', 'level', 'collecting', 'correlating', 'time', 'learn', 'association', 'tailor', 'development', 'initiative', 'use', 'primary', 'Uber', 'us', 'match', 'rider', 'us', 'surface', 'ride', 'advertisement', 'come', 'disadvantage', 'foremost', 'project', 'typically', 'command', 'salary', 'project', 'require', 'infrastructure', 'bias', 'trained', 'set', 'exclude', 'certain', 'contain', 'lead', 'world', 'fail', 'discriminatory', 'enterprise', 'core', 'process', 'biased', 'run', 'reputational', 'harm']\n",
      "\n",
      "\n",
      "Sentence 2:  Machine learning has seen use cases ranging from predicting customer behavior to developing the operating system for autonomous cars.  When it comes to profit, machine learning can help companies understand their customers on a deeper level. By collecting customer data and correlating it to behavior over time, machine learning algorithms can learn associations and help teams tailor product development and marketing initiatives to meet customer demand.  Some companies use machine learning as the main driver in their business models. For example, Uber uses algorithms to match drivers with passengers. Google uses machine learning to show the ads that generate search ads.  But machine learning has its drawbacks. First, it can be expensive. Machine learning projects are often driven by data scientists demanding high salaries. These projects also require a software infrastructure, which can be expensive.  There is also the problem of machine learning bias. Algorithms trained on data sets that exclude certain populations or contain errors can lead to inaccurate models of the world that are faulty at best and discriminatory at worst. If a company bases its core business processes on distorted models, it can lead to regulatory damage and reputational damage.\n",
      "\n",
      "--------Tokenization--------\n",
      "['Machine', 'learning', 'has', 'seen', 'use', 'cases', 'ranging', 'from', 'predicting', 'customer', 'behavior', 'to', 'developing', 'the', 'operating', 'system', 'for', 'autonomous', 'cars', '.', 'When', 'it', 'comes', 'to', 'profit', ',', 'machine', 'learning', 'can', 'help', 'companies', 'understand', 'their', 'customers', 'on', 'a', 'deeper', 'level', '.', 'By', 'collecting', 'customer', 'data', 'and', 'correlating', 'it', 'to', 'behavior', 'over', 'time', ',', 'machine', 'learning', 'algorithms', 'can', 'learn', 'associations', 'and', 'help', 'teams', 'tailor', 'product', 'development', 'and', 'marketing', 'initiatives', 'to', 'meet', 'customer', 'demand', '.', 'Some', 'companies', 'use', 'machine', 'learning', 'as', 'the', 'main', 'driver', 'in', 'their', 'business', 'models', '.', 'For', 'example', ',', 'Uber', 'uses', 'algorithms', 'to', 'match', 'drivers', 'with', 'passengers', '.', 'Google', 'uses', 'machine', 'learning', 'to', 'show', 'the', 'ads', 'that', 'generate', 'search', 'ads', '.', 'But', 'machine', 'learning', 'has', 'its', 'drawbacks', '.', 'First', ',', 'it', 'can', 'be', 'expensive', '.', 'Machine', 'learning', 'projects', 'are', 'often', 'driven', 'by', 'data', 'scientists', 'demanding', 'high', 'salaries', '.', 'These', 'projects', 'also', 'require', 'a', 'software', 'infrastructure', ',', 'which', 'can', 'be', 'expensive', '.', 'There', 'is', 'also', 'the', 'problem', 'of', 'machine', 'learning', 'bias', '.', 'Algorithms', 'trained', 'on', 'data', 'sets', 'that', 'exclude', 'certain', 'populations', 'or', 'contain', 'errors', 'can', 'lead', 'to', 'inaccurate', 'models', 'of', 'the', 'world', 'that', 'are', 'faulty', 'at', 'best', 'and', 'discriminatory', 'at', 'worst', '.', 'If', 'a', 'company', 'bases', 'its', 'core', 'business', 'processes', 'on', 'distorted', 'models', ',', 'it', 'can', 'lead', 'to', 'regulatory', 'damage', 'and', 'reputational', 'damage', '.']\n",
      "--------After Stop Words Removal--------\n",
      "['use', 'ranging', 'developing', 'system', 'autonomous', 'car', 'profit', 'level', 'collecting', 'correlating', 'time', 'learn', 'association', 'tailor', 'development', 'initiative', 'meet', 'demand', 'Some', 'use', 'main', 'For', 'Uber', 'us', 'match', 'passenger', 'us', 'show', 'ad', 'generate', 'search', 'ad', 'But', 'drawback', 'project', 'often', 'demanding', 'salary', 'project', 'require', 'infrastructure', 'There', 'bias', 'trained', 'set', 'exclude', 'certain', 'contain', 'lead', 'world', 'faulty', 'discriminatory', 'If', 'core', 'process', 'distorted', 'lead', 'damage', 'reputational', 'damage']\n",
      "\n",
      "Similarity index value :  0.96\n",
      "Full Grade\n"
     ]
    }
   ],
   "source": [
    "##---------------Final Output---------------##\n",
    "\n",
    "similarity_index = numpy.mean(final)\n",
    "similarity_index = round(similarity_index , 2)\n",
    "print(\"Sentence 1: \",str1)\n",
    "print(\"\")\n",
    "\n",
    "print(\"--------Tokenization--------\")\n",
    "print(word_tokenize(str1))\n",
    "\n",
    "print(\"--------After Stop Words Removal--------\")\n",
    "print(lemm_sentence1)\n",
    "print(\"\")\n",
    "print(\"\")\n",
    "\n",
    "print(\"Sentence 2: \",str2)\n",
    "print(\"\")\n",
    "\n",
    "print(\"--------Tokenization--------\")\n",
    "print(word_tokenize(str2))\n",
    "\n",
    "print(\"--------After Stop Words Removal--------\")\n",
    "print(lemm_sentence2)\n",
    "\n",
    "print(\"\")\n",
    "\n",
    "\n",
    "\n",
    "print(\"Similarity index value : \", similarity_index)\n",
    "\n",
    "if similarity_index>0.9:\n",
    "    print(\"Full Grade\")\n",
    "elif similarity_index>=0.6 & similarity_index<=0.9:\n",
    "    print(\"Partial Grade\")\n",
    "else:\n",
    "    print(\"Low Grade\")"
   ]
  },
  {
   "cell_type": "code",
   "execution_count": null,
   "id": "c249c4a5",
   "metadata": {},
   "outputs": [],
   "source": []
  }
 ],
 "metadata": {
  "kernelspec": {
   "display_name": "Python 3",
   "language": "python",
   "name": "python3"
  },
  "language_info": {
   "codemirror_mode": {
    "name": "ipython",
    "version": 3
   },
   "file_extension": ".py",
   "mimetype": "text/x-python",
   "name": "python",
   "nbconvert_exporter": "python",
   "pygments_lexer": "ipython3",
   "version": "3.8.8"
  }
 },
 "nbformat": 4,
 "nbformat_minor": 5
}
